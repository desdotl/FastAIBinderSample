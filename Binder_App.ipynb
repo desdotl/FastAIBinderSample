{
  "nbformat": 4,
  "nbformat_minor": 0,
  "metadata": {
    "jupytext": {
      "split_at_heading": true
    },
    "kernelspec": {
      "display_name": "Python 3",
      "language": "python",
      "name": "python3"
    },
    "colab": {
      "name": "Binder_App.ipynb",
      "provenance": [],
      "collapsed_sections": [],
      "toc_visible": true
    }
  },
  "cells": [
    {
      "cell_type": "code",
      "metadata": {
        "id": "uurKVzd5jbmm"
      },
      "source": [
        "#hide\n",
        "!pip install -Uqq fastbook\n",
        "import fastbook\n",
        "fastbook.setup_book()"
      ],
      "execution_count": null,
      "outputs": []
    },
    {
      "cell_type": "code",
      "metadata": {
        "id": "5GZHPnIzjbms"
      },
      "source": [
        "#hide\n",
        "from fastbook import *\n",
        "from fastai.vision.widgets import *\n",
        "from fastai.vision import Path"
      ],
      "execution_count": null,
      "outputs": []
    },
    {
      "cell_type": "code",
      "metadata": {
        "id": "aS2a5Kh6jbnF"
      },
      "source": [
        "#hide\n",
        " !pip install voila\n",
        " !jupyter serverextension enable --sys-prefix voila "
      ],
      "execution_count": null,
      "outputs": []
    },
    {
      "cell_type": "code",
      "metadata": {
        "id": "NanVy80DjbnA"
      },
      "source": [
        "#hide_output\r\n",
        "path = Path()"
      ],
      "execution_count": null,
      "outputs": []
    },
    {
      "cell_type": "code",
      "metadata": {
        "id": "0uEZeBg3jbnA"
      },
      "source": [
        "#hide_output\r\n",
        "learn_inf = load_learner(path/'export.pkl')"
      ],
      "execution_count": null,
      "outputs": []
    },
    {
      "cell_type": "markdown",
      "metadata": {
        "id": "5mr9nzj_jbnB"
      },
      "source": [
        "### Creating a Notebook App from the Model"
      ]
    },
    {
      "cell_type": "code",
      "metadata": {
        "id": "gomJCVYEjbnC"
      },
      "source": [
        "#hide_output\n",
        "_output\n",
        "out_pl = widgets.Output()"
      ],
      "execution_count": null,
      "outputs": []
    },
    {
      "cell_type": "code",
      "metadata": {
        "id": "HZKox-XbjbnD"
      },
      "source": [
        "#hide_output\n",
        "lbl_pred = widgets.Label()\n",
        "lbl_pred.value = f'Prediction: {pred}; Probability: {probs[pred_idx]:.04f}'\n",
        "lbl_pred"
      ],
      "execution_count": null,
      "outputs": []
    },
    {
      "cell_type": "code",
      "metadata": {
        "id": "2AHcVeQSjbnD"
      },
      "source": [
        "#hide_output\n",
        "btn_run = widgets.Button(description='Classify')\n",
        "btn_run"
      ],
      "execution_count": null,
      "outputs": []
    },
    {
      "cell_type": "code",
      "metadata": {
        "id": "sEZj7-lajbnE"
      },
      "source": [
        "def on_click_classify(change):\n",
        "    img = PILImage.create(btn_upload.data[-1])\n",
        "    out_pl.clear_output()\n",
        "    with out_pl: display(img.to_thumb(128,128))\n",
        "    pred,pred_idx,probs = learn_inf.predict(img)\n",
        "    lbl_pred.value = f'Prediction: {pred}; Probability: {probs[pred_idx]:.04f}'\n",
        "\n",
        "btn_run.on_click(on_click_classify)"
      ],
      "execution_count": null,
      "outputs": []
    },
    {
      "cell_type": "code",
      "metadata": {
        "id": "Dbr38oOijbnE"
      },
      "source": [
        "#hide\n",
        "#Putting back btn_upload to a widget for next cell\n",
        "btn_upload = widgets.FileUpload()"
      ],
      "execution_count": null,
      "outputs": []
    },
    {
      "cell_type": "code",
      "metadata": {
        "id": "GNMqEZZ5jbnE"
      },
      "source": [
        "#hide_output\n",
        "VBox([widgets.Label('Select your bear!'), \n",
        "      btn_upload, btn_run, out_pl, lbl_pred])"
      ],
      "execution_count": null,
      "outputs": []
    }
  ]
}